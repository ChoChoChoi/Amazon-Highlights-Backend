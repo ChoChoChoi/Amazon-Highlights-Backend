{
 "cells": [
  {
   "cell_type": "markdown",
   "id": "035908bd",
   "metadata": {},
   "source": [
    "# Import requried library"
   ]
  },
  {
   "cell_type": "code",
   "execution_count": 1,
   "id": "7c19c9c9",
   "metadata": {},
   "outputs": [
    {
     "name": "stdout",
     "output_type": "stream",
     "text": [
      "Requirement already satisfied: pandas in /Library/Frameworks/Python.framework/Versions/3.11/lib/python3.11/site-packages (1.5.2)\n",
      "Requirement already satisfied: python-dateutil>=2.8.1 in /Library/Frameworks/Python.framework/Versions/3.11/lib/python3.11/site-packages (from pandas) (2.8.2)\n",
      "Requirement already satisfied: pytz>=2020.1 in /Library/Frameworks/Python.framework/Versions/3.11/lib/python3.11/site-packages (from pandas) (2022.6)\n",
      "Requirement already satisfied: numpy>=1.21.0 in /Library/Frameworks/Python.framework/Versions/3.11/lib/python3.11/site-packages (from pandas) (1.24.0)\n",
      "Requirement already satisfied: six>=1.5 in /Library/Frameworks/Python.framework/Versions/3.11/lib/python3.11/site-packages (from python-dateutil>=2.8.1->pandas) (1.16.0)\n",
      "Note: you may need to restart the kernel to use updated packages.\n"
     ]
    }
   ],
   "source": [
    "pip install pandas"
   ]
  },
  {
   "cell_type": "code",
   "execution_count": 2,
   "id": "44c9e704",
   "metadata": {},
   "outputs": [],
   "source": [
    "import pandas as pd"
   ]
  },
  {
   "cell_type": "markdown",
   "id": "148d6deb",
   "metadata": {},
   "source": [
    "# Import Text File"
   ]
  },
  {
   "cell_type": "code",
   "execution_count": 10,
   "id": "da0005bb",
   "metadata": {},
   "outputs": [],
   "source": [
    "df = pd.read_table('./AWSProducts.txt', encoding='utf8')"
   ]
  },
  {
   "cell_type": "code",
   "execution_count": 11,
   "id": "39a79fb9",
   "metadata": {},
   "outputs": [
    {
     "name": "stdout",
     "output_type": "stream",
     "text": [
      "                                       Product\n",
      "0    Active Directory Connector (AD Connector)\n",
      "1                           Alexa for Business\n",
      "2                              Alexa Top Sites\n",
      "3                Alexa Web Information Service\n",
      "4                           Amazon API Gateway\n",
      "..                                         ...\n",
      "504                              Savings Plans\n",
      "505                             Service Quotas\n",
      "506                          TensorFlow on AWS\n",
      "507                        VMware Cloud on AWS\n",
      "508               VMware Cloud on AWS Outposts\n",
      "\n",
      "[509 rows x 1 columns]\n"
     ]
    }
   ],
   "source": [
    "print(df)"
   ]
  },
  {
   "cell_type": "markdown",
   "id": "d4603846",
   "metadata": {},
   "source": [
    "# Remove meaningless tokens"
   ]
  },
  {
   "cell_type": "code",
   "execution_count": 12,
   "id": "5b7d50f2",
   "metadata": {},
   "outputs": [],
   "source": [
    "df[\"Product\"] = df[\"Product\"].str.replace(pat=r'[^\\w]',repl=r' ',regex=True)"
   ]
  },
  {
   "cell_type": "code",
   "execution_count": 13,
   "id": "ed849a4c",
   "metadata": {},
   "outputs": [],
   "source": [
    "tokens = df[\"Product\"].str.split(\" \")"
   ]
  },
  {
   "cell_type": "code",
   "execution_count": 18,
   "id": "61a92b7f",
   "metadata": {},
   "outputs": [],
   "source": [
    "list = []\n",
    "for t in tokens:\n",
    "    for word in t:\n",
    "        if word == '' or word =='for' or word =='on' or word=='0' or word=='1' or word=='2':\n",
    "            break\n",
    "        elif word not in list:\n",
    "            list.append(word)"
   ]
  },
  {
   "cell_type": "code",
   "execution_count": 19,
   "id": "7d5d904e",
   "metadata": {},
   "outputs": [
    {
     "name": "stdout",
     "output_type": "stream",
     "text": [
      "['Active', 'Directory', 'Connector', 'Alexa', 'Top', 'Sites', 'Web', 'Information', 'Service', 'Amazon', 'API', 'Gateway', 'AppFlow', 'AppIntegrations', 'AppStream', 'Athena', 'Augmented', 'AI', 'Aurora', 'Global', 'Database', 'Multi', 'Master', 'Parallel', 'Query', 'Serverless', 'Braket', 'Chime', 'Business', 'Calling', 'Voice', 'Cloud', 'CloudFront', 'Field', 'Level', 'Encryption', 'Functions', 'Origin', 'Shield', 'CloudSearch', 'CloudWatch', 'Anomaly', 'Detection', 'Application', 'Insights', 'Contributor', 'Digital', 'Experience', 'Monitoring', 'Evidently', 'Logs', 'Agent', 'Metric', 'Streams', 'Metrics', 'RUM', 'ServiceLens', 'Synthetics', 'Vended', 'CodeGuru', 'Profiler', 'Reviewer', 'Cognito', 'identity', 'pools', 'Sync', 'Comprehend', 'Medical', 'Connect', 'Customer', 'Profiles', 'High', 'Volume', 'Outbound', 'Communications', 'Tasks', 'ID', 'Wisdom', 'Corretto', 'Data', 'Lifecycle', 'Manager', 'Detective', 'DevOps', 'Guru', 'DevPay', 'DocumentDB', 'DynamoDB', 'Accelerator', 'EBS', 'Snapshots', 'Archive', 'EC2', 'Auto', 'Scaling', 'C7g', 'Instances', 'Dedicated', 'Hosts', 'G5g', 'I4i', 'Im4gn', 'Is4gen', 'Image', 'Builder', 'Instance', 'M1', 'Mac', 'M6a', 'Reserved', 'Spot', 'Trn1', 'VM', 'Import', 'Export', 'X2idn', 'X2iedn', 'X2iezn', 'Elastic', 'Block', 'Store', 'Container', 'Registry', 'Public', 'File', 'System', 'Graphics', 'Inference', 'Kubernetes', 'Transcoder', 'ElastiCache', 'EMR', 'EventBridge', 'Schema', 'FinSpace', 'Forecast', 'Fraud', 'Detector', 'FreeRTOS', 'FSx', 'GameLift', 'GuardDuty', 'HealthLake', 'Honeycode', 'Inspector', 'Interactive', 'Video', 'Kendra', 'Keyspaces', 'Kinesis', 'Analytics', 'Firehose', 'On', 'Demand', 'Lex', 'Automated', 'Chatbot', 'Designer', 'Lightsail', 'Location', 'Lookout', 'Lumberyard', 'Machine', 'Learning', 'Macie', 'Classic', 'Managed', 'Blockchain', 'Grafana', 'Streaming', 'Workflows', 'Mechanical', 'Turk', 'MemoryDB', 'Message', 'Delivery', 'Mobile', 'Monitron', 'MQ', 'Neptune', 'Lab', 'Mode', 'ML', 'Nimble', 'Studio', 'OpenSearch', 'Personalize', 'Pinpoint', 'Email', 'SMS', 'and', 'Polly', 'Quantum', 'Ledger', 'Solutions', 'QuickSight', 'RDS', 'Custom', 'Preview', 'Environment', 'Free', 'Tier', 'Availability', 'AZ', 'Deployments', 'Performance', 'Proxy', 'Redshift', 'Concurrency', 'Editor', 'v2', 'RA3', 'instances', 'with', 'managed', 'storage', 'Spectrum', 'Rekognition', 'Resource', 'Group', 'Tagging', 'Route', '53', 'Recovery', 'Controller', 'Resolver', 'S3', 'Access', 'Points', 'Batch', 'Operations', 'Glacier', 'Instant', 'Retrieval', 'Select', 'Intelligent', 'Tiering', 'Region', 'Object', 'Lambda', 'Storage', 'Lens', 'SageMaker', 'Autopilot', 'Canvas', 'Clarify', 'Labeling', 'Wrangler', 'Debugger', 'Edge', 'Experiments', 'Feature', 'Ground', 'Truth', 'Plus', 'Recommender', 'JumpStart', 'Training', 'Model', 'Monitor', 'Pipelines', 'Compiler', 'Session', 'Silk', 'Simple', 'Notification', 'Queue', 'Workflow', 'SimpleDB', 'SNS', 'Worldwide', 'SQS', 'FIFO', 'Sumerian', 'Textract', 'Timestream', 'Transcribe', 'Translate', 'Virtual', 'Private', 'VPC', 'WorkDocs', 'WorkMail', 'Flow', 'WorkSpaces', 'Apache', 'MXNet', 'AQUA', 'AWS', 'Accelerated', 'Site', 'to', 'VPN', 'Account', 'Vending', 'Activate', 'Amplify', 'Auth', 'Console', 'DataStore', 'Hosting', 'App', 'Mesh', 'Channel', 'Runner', 'App2Container', 'AppConfig', 'Cost', 'Discovery', 'Migration', 'AppSync', 'Artifact', 'Audit', 'Backint', 'Backup', 'support', 'Billing', 'Templates', 'Budgets', 'BugBust', 'Certificate', 'Authority', 'Certification', 'Client', 'Control', 'Development', 'Kit', 'Interface', 'Software', 'Map', 'WAN', 'Cloud9', 'CloudFormation', 'CloudHSM', 'CloudShell', 'CloudTrail', 'CodeArtifact', 'CodeBuild', 'CodeCommit', 'CodeDeploy', 'CodePipeline', 'CodeStar', 'Connections', 'Notifications', 'Command', 'Line', 'Compute', 'Optimizer', 'Config', 'Construct', 'Library', 'Tower', 'Residency', 'Guardrails', 'Copilot', 'Usage', 'Report', 'Categories', 'Explorer', 'Exchange', 'Pipeline', 'DataSync', 'Deep', 'AMIs', 'Containers', 'DeepComposer', 'Chartbusters', 'DeepLens', 'DeepRacer', 'Developer', 'Center', 'Device', 'Farm', 'Direct', 'Distro', 'Beanstalk', 'Disaster', 'Elemental', 'Appliances', 'Activation', 'Conductor', 'Delta', 'Live', 'MediaConnect', 'MediaConvert', 'MediaLive', 'MediaPackage', 'MediaStore', 'MediaTailor', 'Server', 'Statmux', 'End', 'of', 'Support', 'Program', 'Fargate', 'Fault', 'Injection', 'Simulator', 'Firewall', 'General', 'Reference', 'Glue', 'Catalog', 'DataBrew', 'Views', 'GovCloud', 'Graviton', 'Processor', 'Station', 'Health', 'IAM', 'Analyzer', 'Policy', 'Identity', 'Management', 'Inferentia', 'IoT', 'Button', 'Core', 'Advisor', 'Defender', 'Tester', 'EduKit', 'Events', 'ExpressLink', 'FleetWise', 'Greengrass', 'RoboRunner', 'SiteWise', 'Things', 'Graph', 'TwinMaker', 'IQ', 'Key', 'Lake', 'Formation', 'Landing', 'Zone', 'Launch', 'Wizard', 'License', 'Mainframe', 'Modernization', 'Services', 'Marketplace', 'Commerce', 'Entitlement', 'Portal', 'Metering', 'Build', 'Procurement', 'Systems', 'Integration', 'Microservice', 'Extractor', 'Hub', 'Refactor', 'Spaces', 'Strategy', 'Recommendations', 'Factor', 'Authentication', 'Network', 'Nitro', 'OpsWorks', 'Configuration', 'Stacks', 'Organizations', 'Outposts', '1U', '2U', 'Panorama', 'Appliance', 'ParallelCluster', 'Partner', 'Personal', 'Dashboard', 'Prescriptive', 'Guidance', 'Price', 'List', 'Pricing', 'Calculator', '5G', 'PrivateLink', 'Professional', 'Proton', 'Purchase', 'Order', 'Quick', 'Starts', 're', 'Post', 'Resilience', 'Groups', 'Tag', 'RoboMaker', 'Savings', 'Plans', 'Conversion', 'Tool', 'Secrets', 'Security', 'Token', 'Repository', 'Advanced', 'Signer', 'Single', 'Sign', 'Snow', 'Family', 'Snowball', 'Snowcone', 'Snowmobile', 'Step', 'Incident', 'Tools', 'SDKs', 'Transfer', 'Transit', 'Trusted', 'CloudHub', 'WAF', 'Bot', 'Wavelength', 'Well', 'Architected', 'X', 'Ray', 'Babelfish', 'Contact', 'Metadata', 'Fabric', 'Adapter', 'Load', 'Balancing', 'Fleet', 'Evaluator', 'NICE', 'DCV', 'EnginFrame', 'Open', '3D', 'Engine', 'Porting', 'Assistant', 'PyTorch', 'Recycle', 'Bin', 'Red', 'Hat', 'OpenShift', 'Quotas', 'TensorFlow', 'VMware']\n"
     ]
    }
   ],
   "source": [
    "print(list)"
   ]
  },
  {
   "cell_type": "code",
   "execution_count": 35,
   "id": "0150aaeb",
   "metadata": {},
   "outputs": [
    {
     "name": "stdout",
     "output_type": "stream",
     "text": [
      "556\n"
     ]
    }
   ],
   "source": [
    "print(len(list))"
   ]
  },
  {
   "cell_type": "markdown",
   "id": "87e7044d",
   "metadata": {},
   "source": [
    "# Export Text File"
   ]
  },
  {
   "cell_type": "code",
   "execution_count": 25,
   "id": "76340df8",
   "metadata": {},
   "outputs": [],
   "source": [
    "ret = \",\".join(list)"
   ]
  },
  {
   "cell_type": "code",
   "execution_count": 26,
   "id": "916352ab",
   "metadata": {},
   "outputs": [
    {
     "name": "stdout",
     "output_type": "stream",
     "text": [
      "Active,Directory,Connector,Alexa,Top,Sites,Web,Information,Service,Amazon,API,Gateway,AppFlow,AppIntegrations,AppStream,Athena,Augmented,AI,Aurora,Global,Database,Multi,Master,Parallel,Query,Serverless,Braket,Chime,Business,Calling,Voice,Cloud,CloudFront,Field,Level,Encryption,Functions,Origin,Shield,CloudSearch,CloudWatch,Anomaly,Detection,Application,Insights,Contributor,Digital,Experience,Monitoring,Evidently,Logs,Agent,Metric,Streams,Metrics,RUM,ServiceLens,Synthetics,Vended,CodeGuru,Profiler,Reviewer,Cognito,identity,pools,Sync,Comprehend,Medical,Connect,Customer,Profiles,High,Volume,Outbound,Communications,Tasks,ID,Wisdom,Corretto,Data,Lifecycle,Manager,Detective,DevOps,Guru,DevPay,DocumentDB,DynamoDB,Accelerator,EBS,Snapshots,Archive,EC2,Auto,Scaling,C7g,Instances,Dedicated,Hosts,G5g,I4i,Im4gn,Is4gen,Image,Builder,Instance,M1,Mac,M6a,Reserved,Spot,Trn1,VM,Import,Export,X2idn,X2iedn,X2iezn,Elastic,Block,Store,Container,Registry,Public,File,System,Graphics,Inference,Kubernetes,Transcoder,ElastiCache,EMR,EventBridge,Schema,FinSpace,Forecast,Fraud,Detector,FreeRTOS,FSx,GameLift,GuardDuty,HealthLake,Honeycode,Inspector,Interactive,Video,Kendra,Keyspaces,Kinesis,Analytics,Firehose,On,Demand,Lex,Automated,Chatbot,Designer,Lightsail,Location,Lookout,Lumberyard,Machine,Learning,Macie,Classic,Managed,Blockchain,Grafana,Streaming,Workflows,Mechanical,Turk,MemoryDB,Message,Delivery,Mobile,Monitron,MQ,Neptune,Lab,Mode,ML,Nimble,Studio,OpenSearch,Personalize,Pinpoint,Email,SMS,and,Polly,Quantum,Ledger,Solutions,QuickSight,RDS,Custom,Preview,Environment,Free,Tier,Availability,AZ,Deployments,Performance,Proxy,Redshift,Concurrency,Editor,v2,RA3,instances,with,managed,storage,Spectrum,Rekognition,Resource,Group,Tagging,Route,53,Recovery,Controller,Resolver,S3,Access,Points,Batch,Operations,Glacier,Instant,Retrieval,Select,Intelligent,Tiering,Region,Object,Lambda,Storage,Lens,SageMaker,Autopilot,Canvas,Clarify,Labeling,Wrangler,Debugger,Edge,Experiments,Feature,Ground,Truth,Plus,Recommender,JumpStart,Training,Model,Monitor,Pipelines,Compiler,Session,Silk,Simple,Notification,Queue,Workflow,SimpleDB,SNS,Worldwide,SQS,FIFO,Sumerian,Textract,Timestream,Transcribe,Translate,Virtual,Private,VPC,WorkDocs,WorkMail,Flow,WorkSpaces,Apache,MXNet,AQUA,AWS,Accelerated,Site,to,VPN,Account,Vending,Activate,Amplify,Auth,Console,DataStore,Hosting,App,Mesh,Channel,Runner,App2Container,AppConfig,Cost,Discovery,Migration,AppSync,Artifact,Audit,Backint,Backup,support,Billing,Templates,Budgets,BugBust,Certificate,Authority,Certification,Client,Control,Development,Kit,Interface,Software,Map,WAN,Cloud9,CloudFormation,CloudHSM,CloudShell,CloudTrail,CodeArtifact,CodeBuild,CodeCommit,CodeDeploy,CodePipeline,CodeStar,Connections,Notifications,Command,Line,Compute,Optimizer,Config,Construct,Library,Tower,Residency,Guardrails,Copilot,Usage,Report,Categories,Explorer,Exchange,Pipeline,DataSync,Deep,AMIs,Containers,DeepComposer,Chartbusters,DeepLens,DeepRacer,Developer,Center,Device,Farm,Direct,Distro,Beanstalk,Disaster,Elemental,Appliances,Activation,Conductor,Delta,Live,MediaConnect,MediaConvert,MediaLive,MediaPackage,MediaStore,MediaTailor,Server,Statmux,End,of,Support,Program,Fargate,Fault,Injection,Simulator,Firewall,General,Reference,Glue,Catalog,DataBrew,Views,GovCloud,Graviton,Processor,Station,Health,IAM,Analyzer,Policy,Identity,Management,Inferentia,IoT,Button,Core,Advisor,Defender,Tester,EduKit,Events,ExpressLink,FleetWise,Greengrass,RoboRunner,SiteWise,Things,Graph,TwinMaker,IQ,Key,Lake,Formation,Landing,Zone,Launch,Wizard,License,Mainframe,Modernization,Services,Marketplace,Commerce,Entitlement,Portal,Metering,Build,Procurement,Systems,Integration,Microservice,Extractor,Hub,Refactor,Spaces,Strategy,Recommendations,Factor,Authentication,Network,Nitro,OpsWorks,Configuration,Stacks,Organizations,Outposts,1U,2U,Panorama,Appliance,ParallelCluster,Partner,Personal,Dashboard,Prescriptive,Guidance,Price,List,Pricing,Calculator,5G,PrivateLink,Professional,Proton,Purchase,Order,Quick,Starts,re,Post,Resilience,Groups,Tag,RoboMaker,Savings,Plans,Conversion,Tool,Secrets,Security,Token,Repository,Advanced,Signer,Single,Sign,Snow,Family,Snowball,Snowcone,Snowmobile,Step,Incident,Tools,SDKs,Transfer,Transit,Trusted,CloudHub,WAF,Bot,Wavelength,Well,Architected,X,Ray,Babelfish,Contact,Metadata,Fabric,Adapter,Load,Balancing,Fleet,Evaluator,NICE,DCV,EnginFrame,Open,3D,Engine,Porting,Assistant,PyTorch,Recycle,Bin,Red,Hat,OpenShift,Quotas,TensorFlow,VMware\n"
     ]
    }
   ],
   "source": [
    "print(ret)"
   ]
  },
  {
   "cell_type": "code",
   "execution_count": 34,
   "id": "4c4bf720",
   "metadata": {},
   "outputs": [],
   "source": [
    "output = open(\"aws_product_list.txt\", \"w\")\n",
    "output.write(ret)\n",
    "output.close()"
   ]
  }
 ],
 "metadata": {
  "kernelspec": {
   "display_name": "Python 3 (ipykernel)",
   "language": "python",
   "name": "python3"
  },
  "language_info": {
   "codemirror_mode": {
    "name": "ipython",
    "version": 3
   },
   "file_extension": ".py",
   "mimetype": "text/x-python",
   "name": "python",
   "nbconvert_exporter": "python",
   "pygments_lexer": "ipython3",
   "version": "3.11.0"
  }
 },
 "nbformat": 4,
 "nbformat_minor": 5
}
